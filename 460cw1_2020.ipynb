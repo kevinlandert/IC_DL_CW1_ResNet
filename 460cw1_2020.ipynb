{
  "nbformat": 4,
  "nbformat_minor": 0,
  "metadata": {
    "kernelspec": {
      "name": "python3",
      "display_name": "Python 3"
    },
    "colab": {
      "name": "460cw1_2020.ipynb",
      "provenance": [],
      "include_colab_link": true
    },
    "accelerator": "GPU"
  },
  "cells": [
    {
      "cell_type": "markdown",
      "metadata": {
        "id": "view-in-github",
        "colab_type": "text"
      },
      "source": [
        "<a href=\"https://colab.research.google.com/github/kevinlandert/deep_learning_imperial/blob/main/460cw1_2020.ipynb\" target=\"_parent\"><img src=\"https://colab.research.google.com/assets/colab-badge.svg\" alt=\"Open In Colab\"/></a>"
      ]
    },
    {
      "cell_type": "markdown",
      "metadata": {
        "id": "r47NecMAVtin"
      },
      "source": [
        "# Coursework1: Convolutional Neural Networks "
      ]
    },
    {
      "cell_type": "markdown",
      "metadata": {
        "id": "LVRAvPsuVtit"
      },
      "source": [
        "## instructions"
      ]
    },
    {
      "cell_type": "markdown",
      "metadata": {
        "id": "CutpGULiVtit"
      },
      "source": [
        "Please submit a version of this notebook containing your answers **together with your trained model** on CATe as CW2.zip. Write your answers in the cells below each question."
      ]
    },
    {
      "cell_type": "markdown",
      "metadata": {
        "id": "KUM90-DhVtiu"
      },
      "source": [
        "### Setting up working environment "
      ]
    },
    {
      "cell_type": "markdown",
      "metadata": {
        "id": "DMGhgVotVtiu"
      },
      "source": [
        "For this coursework you will need to train a large network, therefore we recommend you work with Google Colaboratory, which provides free GPU time. You will need a Google account to do so. \n",
        "\n",
        "Please log in to your account and go to the following page: https://colab.research.google.com. Then upload this notebook.\n",
        "\n",
        "For GPU support, go to \"Edit\" -> \"Notebook Settings\", and select \"Hardware accelerator\" as \"GPU\".\n",
        "\n",
        "You will need to install pytorch by running the following cell:"
      ]
    },
    {
      "cell_type": "code",
      "metadata": {
        "colab": {
          "base_uri": "https://localhost:8080/"
        },
        "id": "np4dwwOjVtiu",
        "outputId": "fba8c12d-9109-455d-e9ca-626fdf3d6d8b"
      },
      "source": [
        "!pip install torch torchvision"
      ],
      "execution_count": 1,
      "outputs": [
        {
          "output_type": "stream",
          "text": [
            "Requirement already satisfied: torch in /usr/local/lib/python3.6/dist-packages (1.7.0+cu101)\n",
            "Requirement already satisfied: torchvision in /usr/local/lib/python3.6/dist-packages (0.8.1+cu101)\n",
            "Requirement already satisfied: numpy in /usr/local/lib/python3.6/dist-packages (from torch) (1.19.5)\n",
            "Requirement already satisfied: typing-extensions in /usr/local/lib/python3.6/dist-packages (from torch) (3.7.4.3)\n",
            "Requirement already satisfied: future in /usr/local/lib/python3.6/dist-packages (from torch) (0.16.0)\n",
            "Requirement already satisfied: dataclasses in /usr/local/lib/python3.6/dist-packages (from torch) (0.8)\n",
            "Requirement already satisfied: pillow>=4.1.1 in /usr/local/lib/python3.6/dist-packages (from torchvision) (7.0.0)\n"
          ],
          "name": "stdout"
        }
      ]
    },
    {
      "cell_type": "markdown",
      "metadata": {
        "id": "01ct4Q5FVtiv"
      },
      "source": [
        "## Introduction"
      ]
    },
    {
      "cell_type": "markdown",
      "metadata": {
        "id": "KDkyJxZ4Vtiv"
      },
      "source": [
        "For this coursework you will implement one of the most commonly used model for image recognition tasks, the Residual Network. The architecture is introduced in 2015 by Kaiming He, et al. in the paper [\"Deep residual learning for image recognition\"](https://www.cv-foundation.org/openaccess/content_cvpr_2016/papers/He_Deep_Residual_Learning_CVPR_2016_paper.pdf). \n",
        "<br>\n",
        "\n",
        "In a residual network, each block contains some convolutional layers, plus \"skip\" connections, which allow the activations to by pass a layer, and then be summed up with the activations of the skipped layer. The image below illustrates a building block in residual networks."
      ]
    },
    {
      "cell_type": "markdown",
      "metadata": {
        "id": "q8R7_z1RVtiv"
      },
      "source": [
        "![resnet-block](utils/resnet-block.png)"
      ]
    },
    {
      "cell_type": "markdown",
      "metadata": {
        "id": "nQtZHBbvVtiw"
      },
      "source": [
        "Depending on the number of building blocks, resnets can have different architectures, for example ResNet-50, ResNet-101 and etc. Here you are required to build ResNet-18 to perform classification on the CIFAR-10 dataset, therefore your network will have the following architecture:"
      ]
    },
    {
      "cell_type": "markdown",
      "metadata": {
        "id": "TAUKw7fBVtiw"
      },
      "source": [
        "![resnet](utils/resnet.png)"
      ]
    },
    {
      "cell_type": "markdown",
      "metadata": {
        "id": "WYVEIcgnVtiw"
      },
      "source": [
        "## Part 1 (40 points)"
      ]
    },
    {
      "cell_type": "markdown",
      "metadata": {
        "id": "g-D_-oDkVtiw"
      },
      "source": [
        "In this part, you will use basic pytorch operations to define the 2D convolution, max pooling operation, linear layer as well as 2d batch normalization. "
      ]
    },
    {
      "cell_type": "markdown",
      "metadata": {
        "id": "502g2Yc8Vtix"
      },
      "source": [
        "### YOUR TASK"
      ]
    },
    {
      "cell_type": "markdown",
      "metadata": {
        "id": "834ui4MpVtix"
      },
      "source": [
        "- implement the forward pass for Conv2D, MaxPool2D, Linear and BatchNorm2d\n",
        "- You are **NOT** allowed to use the torch.nn modules"
      ]
    },
    {
      "cell_type": "code",
      "metadata": {
        "id": "66fAIn3wVtix"
      },
      "source": [
        "import torch\n",
        "import torch.nn as nn\n",
        "import torch.nn.functional as F\n",
        "\n",
        "class Conv2d(nn.Module):\n",
        "    def __init__(self,\n",
        "                 in_channels,\n",
        "                 out_channels,\n",
        "                 kernel_size,\n",
        "                 stride=1,\n",
        "                 padding=0,\n",
        "                 bias=True):\n",
        "\n",
        "        super(Conv2d, self).__init__()\n",
        "        \"\"\"\n",
        "        An implementation of a convolutional layer.\n",
        "\n",
        "        The input consists of N data points, each with C channels, height H and\n",
        "        width W. We convolve each input with F different filters, where each filter\n",
        "        spans all C channels and has height HH and width WW.\n",
        "\n",
        "        Parameters:\n",
        "        - w: Filter weights of shape (F, C, HH, WW)\n",
        "        - b: Biases, of shape (F,)\n",
        "        - kernel_size: Size of the convolving kernel\n",
        "        - stride: The number of pixels between adjacent receptive fields in the\n",
        "            horizontal and vertical directions.\n",
        "        - padding: The number of pixels that will be used to zero-pad the input.\n",
        "        \"\"\"\n",
        "\n",
        "        ########################################################################\n",
        "        # TODO: Define the parameters used in the forward pass                 #\n",
        "        ########################################################################\n",
        "        # *****START OF YOUR CODE (DO NOT DELETE/MODIFY THIS LINE)*****\n",
        "\n",
        "        self.in_channels = in_channels\n",
        "        self.out_channels = out_channels\n",
        "        self.kernel_size = kernel_size\n",
        "\n",
        "        self.w = torch.random.rand((out_channels,in_channels,kernel_size,kernel_size))\n",
        "        self.b = torch.random.rand(out_channels) #Not sure \n",
        "        self.kernel_size = kernel_size\n",
        "        self.stride = stride\n",
        "        self.padding = padding\n",
        "\n",
        "\n",
        "\n",
        "\n",
        "        # *****END OF YOUR CODE (DO NOT DELETE/MODIFY THIS LINE)*****\n",
        "        ########################################################################\n",
        "        #                             END OF YOUR CODE                         #\n",
        "        ########################################################################\n",
        "\n",
        "    def forward(self, x):\n",
        "        \"\"\"\n",
        "        Input:\n",
        "        - x: Input data of shape (N, C, H, W)\n",
        "        Output:\n",
        "        - out: Output data, of shape (N, F, H', W').\n",
        "        \"\"\"\n",
        "\n",
        "        ########################################################################\n",
        "        # TODO: Implement the forward pass                                     #\n",
        "        ########################################################################\n",
        "        # *****START OF YOUR CODE (DO NOT DELETE/MODIFY THIS LINE)*****\n",
        "\n",
        "        batch_size,in_channels,height,width = x.shape\n",
        "\n",
        "        #Get output dimensions\n",
        "        out_dim = get_out_dim(height,width,self.kernel_size,self.stride,self.padding)\n",
        "\n",
        "        #Get into shape for matrix multiplication\n",
        "        x_unf = F.unfold(x_pad,(self.kernel_size,self.kernel_size),padding = self.padding, stride = self.stride)\n",
        "\n",
        "        #Matrix multiplication\n",
        "        out_unf = self.w.view(self.w.size(0),-1) @ x_unf \n",
        "\n",
        "        #Add Bias\n",
        "        out_unf += self.b.view(self.b.size(0),out_unf.shape[-1])\n",
        "\n",
        "        #Get into correct output shape\n",
        "        out = F.fold(out_unf,out_dim,self.kernel_size)\n",
        "\n",
        "\n",
        "        # *****END OF YOUR CODE (DO NOT DELETE/MODIFY THIS LINE)*****\n",
        "        ########################################################################\n",
        "        #                             END OF YOUR CODE                         #\n",
        "        ########################################################################\n",
        "\n",
        "        return out"
      ],
      "execution_count": 2,
      "outputs": []
    },
    {
      "cell_type": "code",
      "metadata": {
        "colab": {
          "base_uri": "https://localhost:8080/"
        },
        "id": "ruhR99Ya1-ru",
        "outputId": "1fb8b967-cd0c-4970-b635-3d3bda3407e3"
      },
      "source": [
        "b = torch.randn(1, 3, 9, 9)\n",
        "conv1 = nn.Conv2d(3,3,(3,3))\n",
        "conv1(b)"
      ],
      "execution_count": 7,
      "outputs": [
        {
          "output_type": "execute_result",
          "data": {
            "text/plain": [
              "tensor([[[[ 2.2994e-01, -4.1004e-01,  2.3691e-01, -5.3215e-01,  3.6746e-01,\n",
              "            2.7667e-01, -1.7547e+00],\n",
              "          [ 1.1080e-01, -7.6267e-01,  9.4140e-01,  4.3269e-01, -6.1727e-01,\n",
              "            4.1811e-01, -2.2773e-01],\n",
              "          [-4.2152e-01, -3.0091e-01,  4.3666e-01, -6.3510e-01,  5.9663e-02,\n",
              "            1.5049e-01, -4.2421e-01],\n",
              "          [-1.8878e-01, -8.4267e-01,  1.5762e+00, -6.0841e-02, -2.3673e-01,\n",
              "           -2.9315e-01, -1.6291e-01],\n",
              "          [-2.3354e-01, -3.8304e-01,  4.9201e-01, -8.9725e-01,  1.4491e-04,\n",
              "            2.1849e-01,  6.5512e-01],\n",
              "          [-6.7016e-01, -2.5362e-01,  1.0901e-01,  1.7824e-01, -8.3893e-02,\n",
              "           -5.5374e-02, -4.0871e-01],\n",
              "          [-1.2396e+00, -1.1653e-01,  3.7298e-01,  4.2523e-01, -1.1673e+00,\n",
              "            4.5992e-01, -4.4050e-01]],\n",
              "\n",
              "         [[ 2.5726e-01, -1.3427e-02, -2.3621e-01,  6.9591e-01, -1.2681e-01,\n",
              "           -5.7324e-01,  7.0526e-01],\n",
              "          [ 5.1611e-01, -2.1136e-01,  1.6719e-01,  1.8701e-01,  1.0510e+00,\n",
              "            2.4253e-01,  4.8772e-01],\n",
              "          [ 7.6855e-01, -1.8999e-01,  1.4868e-02,  5.0786e-01, -5.9395e-01,\n",
              "            3.0183e-01,  1.7199e-01],\n",
              "          [ 1.6273e+00,  6.8238e-01, -2.8747e-01,  1.0029e-01, -5.7947e-02,\n",
              "            2.3990e-01,  1.1906e+00],\n",
              "          [ 1.2685e+00,  1.6943e-01, -6.3274e-01,  7.6214e-01, -7.1464e-02,\n",
              "            9.0640e-01, -1.9485e-01],\n",
              "          [ 1.3581e+00,  1.9159e-02,  4.0385e-01,  8.1866e-01, -4.0926e-02,\n",
              "           -9.2468e-01,  3.5425e-01],\n",
              "          [ 1.5237e+00, -3.1800e-01,  1.4201e+00, -8.7243e-02,  4.1406e-01,\n",
              "           -5.4995e-01,  3.2363e-01]],\n",
              "\n",
              "         [[ 2.9118e-01,  3.6739e-01, -2.3909e-01,  6.3986e-02, -8.7813e-02,\n",
              "           -4.8702e-01,  6.3431e-01],\n",
              "          [-4.3581e-01,  8.7572e-01, -2.4780e-01, -1.1599e-01,  7.8310e-01,\n",
              "            6.6222e-01, -2.2251e-01],\n",
              "          [-9.2176e-02,  2.9215e-01,  2.8851e-01, -5.2357e-01,  7.2879e-01,\n",
              "            4.0763e-01, -2.4293e-02],\n",
              "          [ 4.8132e-01,  1.3240e-01,  3.1443e-01, -8.2318e-02, -1.6359e-01,\n",
              "            8.3690e-01,  3.6914e-01],\n",
              "          [-4.8932e-01,  6.3162e-01, -7.4208e-01,  8.1511e-01,  6.9355e-02,\n",
              "            2.8189e-01,  5.2986e-02],\n",
              "          [ 4.1481e-01,  9.9526e-02,  3.6177e-01,  9.0921e-01, -1.3940e-01,\n",
              "           -2.0591e-01, -1.1398e-01],\n",
              "          [ 6.5175e-01, -1.6398e-01,  1.6547e-01,  1.2819e-01,  2.5607e-01,\n",
              "            2.6671e-01, -3.5408e-01]]]], grad_fn=<ThnnConv2DBackward>)"
            ]
          },
          "metadata": {
            "tags": []
          },
          "execution_count": 7
        }
      ]
    },
    {
      "cell_type": "code",
      "metadata": {
        "id": "W_ASayR5seY1"
      },
      "source": [
        "def get_out_dim(height,width,kernel_size,stride,padding):\n",
        "\n",
        "  H_out = int((height + 2 * padding - (kernel_size - 1) - 1) / stride + 1)\n",
        "  W_out = int((width + 2 * padding - (kernel_size - 1) - 1) / stride + 1)\n",
        "  return H_out,W_out\n",
        "get_out_dim(9,9,3,1,1)"
      ],
      "execution_count": 34,
      "outputs": []
    },
    {
      "cell_type": "code",
      "metadata": {
        "colab": {
          "base_uri": "https://localhost:8080/"
        },
        "id": "pMs4NL7rhNTk",
        "outputId": "cdbf6aa3-d03f-4aea-e8c4-b6d026ebab25"
      },
      "source": [
        "a = torch.randn(2,3,3,3)\n",
        "\n",
        "a.view(a.size(0),-1)\n",
        "b = torch.randn(1, 3, 9, 9)\n",
        "b_unf = F.unfold(b,(3,3))\n",
        "c_unf = a.view(a.size(0),-1) @ b_unf\n",
        "c_unf"
      ],
      "execution_count": 37,
      "outputs": [
        {
          "output_type": "execute_result",
          "data": {
            "text/plain": [
              "tensor([[[ 7.6758e-02,  3.3056e+00,  3.4185e-01, -1.2205e+00, -1.4934e-01,\n",
              "           6.0037e+00,  1.8154e+00, -6.4078e+00,  1.7503e+00, -4.6179e-02,\n",
              "          -1.5131e+00, -4.7122e+00, -2.3505e+00,  1.1150e+01,  2.5478e+00,\n",
              "          -9.5339e+00,  2.5140e+00,  3.6934e-01,  3.8103e+00, -1.2389e+00,\n",
              "          -3.5855e+00, -2.1965e+00, -1.9383e+00, -3.1708e-01,  2.9825e-01,\n",
              "           3.2789e+00,  1.4782e+00, -2.0033e+00,  7.4721e-01, -7.2705e+00,\n",
              "           9.2782e+00, -1.6551e+00, -1.5902e+00,  9.0274e-01, -2.1942e+00,\n",
              "           5.2094e-02, -2.7220e+00, -7.6744e+00,  5.9892e+00, -1.3804e+00,\n",
              "          -1.3173e+00, -4.9356e+00,  7.1760e+00,  3.3053e-01, -2.5382e+00,\n",
              "          -4.1316e+00, -6.3219e+00,  9.9851e-01,  1.9837e+00],\n",
              "         [ 2.5099e+00, -3.6119e-01,  2.2298e+00, -2.5692e-03,  1.1336e+01,\n",
              "          -1.0751e+00, -2.7108e+00, -3.2483e+00, -8.6129e-02, -1.9136e+00,\n",
              "          -2.7168e+00,  2.1009e+00,  4.5419e+00, -8.2001e-01, -9.9955e+00,\n",
              "           5.0628e+00, -2.2334e+00, -6.4602e-01,  2.1603e+00, -8.8625e-01,\n",
              "           6.7932e+00, -3.8957e+00,  1.5629e+00, -4.7781e+00, -3.4423e+00,\n",
              "          -3.6658e-01, -9.7531e+00,  2.4109e-01, -6.3362e+00,  9.2414e+00,\n",
              "          -4.7185e+00,  4.5242e+00,  4.9381e+00, -3.0197e+00,  1.6975e+00,\n",
              "          -4.8627e+00,  1.2082e+00,  7.4743e+00, -8.1803e+00,  4.9059e+00,\n",
              "          -4.6630e+00, -2.0389e+00, -6.4441e-01, -1.1637e+01,  2.6594e+00,\n",
              "          -5.6943e+00, -9.4793e-01,  4.1972e+00,  2.9941e+00]]])"
            ]
          },
          "metadata": {
            "tags": []
          },
          "execution_count": 37
        }
      ]
    },
    {
      "cell_type": "code",
      "metadata": {
        "id": "v1YeVGjTVtiy"
      },
      "source": [
        "class MaxPool2d(nn.Module):\n",
        "    def __init__(self, kernel_size):\n",
        "        super(MaxPool2d, self).__init__()\n",
        "        \"\"\"\n",
        "        An implementation of a max-pooling layer.\n",
        "\n",
        "        Parameters:\n",
        "        - kernel_size: the size of the window to take a max over\n",
        "        \"\"\"\n",
        "        ########################################################################\n",
        "        # TODO: Define the parameters used in the forward pass                 #\n",
        "        ########################################################################\n",
        "        # *****START OF YOUR CODE (DO NOT DELETE/MODIFY THIS LINE)*****\n",
        "\n",
        "        self.kernel_size = kernel_size\n",
        "\n",
        "        # *****END OF YOUR CODE (DO NOT DELETE/MODIFY THIS LINE)*****\n",
        "        ########################################################################\n",
        "        #                             END OF YOUR CODE                         #\n",
        "        ########################################################################\n",
        "\n",
        "    def forward(self, x):\n",
        "        \"\"\"\n",
        "        Input:\n",
        "        - x: Input data of shape (N, C, H, W)\n",
        "        Output:\n",
        "        - out: Output data, of shape (N, F, H', W').\n",
        "        \"\"\"\n",
        "        ########################################################################\n",
        "        # TODO: Implement the forward pass                                     #\n",
        "        ########################################################################\n",
        "        # *****START OF YOUR CODE (DO NOT DELETE/MODIFY THIS LINE)*****\n",
        "\n",
        "        batch_size,in_channels,height,width = x.shape\n",
        "\n",
        "        #Get into shape for matrix multiplication\n",
        "        x_unf = F.unfold(x_pad,(self.kernel_size,self.kernel_size),padding = self.padding, stride = self.stride)\n",
        "\n",
        "        #MaxPool but over all channels -> TODO\n",
        "        out_unf = x_unf.max(dim = 1)\n",
        "        #or: out_unf = x_unf.view[batch_size,in_channels,-1,x_unf.shape[-1]].max(2)\n",
        "\n",
        "        #Get into correct output shape\n",
        "        out = F.fold(out_unf,out_dim,self.kernel_size)\n",
        "\n",
        "\n",
        "\n",
        "\n",
        "        # *****END OF YOUR CODE (DO NOT DELETE/MODIFY THIS LINE)*****\n",
        "        ########################################################################\n",
        "        #                             END OF YOUR CODE                         #\n",
        "        ########################################################################\n",
        "\n",
        "        return out"
      ],
      "execution_count": null,
      "outputs": []
    },
    {
      "cell_type": "code",
      "metadata": {
        "colab": {
          "base_uri": "https://localhost:8080/"
        },
        "id": "rV1ir06KzO4x",
        "outputId": "363e6838-cfd1-451a-b9bd-a193b90bb90a"
      },
      "source": [
        "b = torch.randn(1, 3, 5, 5)\n",
        "b_unf = F.unfold(b,(3,3))\n",
        "b_unf.shape"
      ],
      "execution_count": 61,
      "outputs": [
        {
          "output_type": "execute_result",
          "data": {
            "text/plain": [
              "torch.Size([1, 27, 9])"
            ]
          },
          "metadata": {
            "tags": []
          },
          "execution_count": 61
        }
      ]
    },
    {
      "cell_type": "code",
      "metadata": {
        "colab": {
          "base_uri": "https://localhost:8080/"
        },
        "id": "xFqcoJFu3enL",
        "outputId": "12c92ecf-0856-4704-9a4f-c6263ff0eb37"
      },
      "source": [
        "b_unf.shape[-1]"
      ],
      "execution_count": 62,
      "outputs": [
        {
          "output_type": "execute_result",
          "data": {
            "text/plain": [
              "9"
            ]
          },
          "metadata": {
            "tags": []
          },
          "execution_count": 62
        }
      ]
    },
    {
      "cell_type": "code",
      "metadata": {
        "colab": {
          "base_uri": "https://localhost:8080/"
        },
        "id": "hrp1Si5D2HLm",
        "outputId": "44dd14c6-36d2-491d-e8a4-37030c8a39ce"
      },
      "source": [
        "b_unf.view([1,3,-1,b_unf.shape[-1]]).shape"
      ],
      "execution_count": 63,
      "outputs": [
        {
          "output_type": "execute_result",
          "data": {
            "text/plain": [
              "torch.Size([1, 3, 9, 9])"
            ]
          },
          "metadata": {
            "tags": []
          },
          "execution_count": 63
        }
      ]
    },
    {
      "cell_type": "code",
      "metadata": {
        "colab": {
          "base_uri": "https://localhost:8080/"
        },
        "id": "b8B-1njU2s8q",
        "outputId": "c33f9b5b-c67e-4c22-8d3d-846f635b3bdc"
      },
      "source": [
        "b_unf.view([1,3,-1,9]).max(dim = 2)"
      ],
      "execution_count": 65,
      "outputs": [
        {
          "output_type": "execute_result",
          "data": {
            "text/plain": [
              "torch.return_types.max(values=tensor([[[1.5892, 1.5892, 1.2563, 0.4689, 1.0050, 1.2563, 0.2378, 0.5196,\n",
              "          0.5418],\n",
              "         [2.4412, 2.1575, 2.1575, 2.4412, 2.1575, 2.1575, 2.1575, 2.1575,\n",
              "          2.1575],\n",
              "         [1.9160, 1.9160, 1.9160, 1.9160, 1.9160, 1.9160, 1.4786, 0.9783,\n",
              "          1.5984]]]), indices=tensor([[[1, 0, 5, 1, 2, 2, 0, 8, 2],\n",
              "         [3, 7, 6, 0, 4, 3, 2, 1, 0],\n",
              "         [5, 4, 3, 2, 1, 0, 6, 4, 8]]]))"
            ]
          },
          "metadata": {
            "tags": []
          },
          "execution_count": 65
        }
      ]
    },
    {
      "cell_type": "code",
      "metadata": {
        "colab": {
          "base_uri": "https://localhost:8080/"
        },
        "id": "JzwxKOIx1kG2",
        "outputId": "e18ab2ad-e3e3-4670-e87f-3fef7fde87bb"
      },
      "source": [
        "b_unf.max(dim = 1)"
      ],
      "execution_count": 49,
      "outputs": [
        {
          "output_type": "execute_result",
          "data": {
            "text/plain": [
              "torch.return_types.max(values=tensor([[1.3618, 1.5442, 1.9761, 1.9761, 1.9761, 1.3827, 1.9160, 1.3618, 1.3618,\n",
              "         1.9761, 1.9761, 1.9761, 1.3827, 1.9160, 2.1512, 1.3659, 2.7012, 2.7012,\n",
              "         2.7012, 2.2266, 2.6100, 2.1512, 1.5217, 2.7012, 2.7012, 2.7012, 2.2266,\n",
              "         2.6100, 2.1512, 1.9859, 2.7012, 2.7012, 2.7012, 2.2266, 2.6100, 2.6789,\n",
              "         1.9859, 2.1870, 2.1870, 2.1870, 1.3857, 1.3045, 2.6789, 1.9859, 1.3239,\n",
              "         1.3857, 1.3857, 1.3857, 1.3080]]), ...)"
            ]
          },
          "metadata": {
            "tags": []
          },
          "execution_count": 49
        }
      ]
    },
    {
      "cell_type": "code",
      "metadata": {
        "id": "fE9LwaMKVtiy"
      },
      "source": [
        "class Linear(nn.Module):\n",
        "    def __init__(self, in_channels, out_channels, bias=True):\n",
        "        super(Linear, self).__init__()\n",
        "        \"\"\"\n",
        "        An implementation of a Linear layer.\n",
        "\n",
        "        Parameters:\n",
        "        - weight: the learnable weights of the module of shape (in_channels, out_channels).\n",
        "        - bias: the learnable bias of the module of shape (out_channels).\n",
        "        \"\"\"\n",
        "        ########################################################################\n",
        "        # TODO: Define the parameters used in the forward pass                 #\n",
        "        ########################################################################\n",
        "        # *****START OF YOUR CODE (DO NOT DELETE/MODIFY THIS LINE)*****\n",
        "\n",
        "        self.weight = torch.random.rand((in_channels,out_channels))\n",
        "        self.bias = torch.random.rand(out_channels)\n",
        "\n",
        "        # *****END OF YOUR CODE (DO NOT DELETE/MODIFY THIS LINE)*****\n",
        "        ########################################################################\n",
        "        #                             END OF YOUR CODE                         #\n",
        "        ########################################################################\n",
        "\n",
        "    def forward(self, x):\n",
        "        \"\"\"\n",
        "        Input:\n",
        "        - x: Input data of shape (N, *, H) where * means any number of additional\n",
        "        dimensions and H = in_channels\n",
        "        Output:\n",
        "        - out: Output data of shape (N, *, H') where * means any number of additional\n",
        "        dimensions and H' = out_channels\n",
        "        \"\"\"\n",
        "        ########################################################################\n",
        "        # TODO: Implement the forward pass                                     #\n",
        "        ########################################################################\n",
        "        # *****START OF YOUR CODE (DO NOT DELETE/MODIFY THIS LINE)*****\n",
        "\n",
        "        pass\n",
        "\n",
        "        # *****END OF YOUR CODE (DO NOT DELETE/MODIFY THIS LINE)*****\n",
        "        ########################################################################\n",
        "        #                             END OF YOUR CODE                         #\n",
        "        ########################################################################\n",
        "\n",
        "        return out"
      ],
      "execution_count": null,
      "outputs": []
    },
    {
      "cell_type": "code",
      "metadata": {
        "id": "Gmo2sLDVVtiz"
      },
      "source": [
        "class BatchNorm2d(nn.Module):\n",
        "    def __init__(self, num_features, eps=1e-05, momentum=0.1):\n",
        "        super(BatchNorm2d, self).__init__()\n",
        "        \"\"\"\n",
        "        An implementation of a Batch Normalization over a mini-batch of 2D inputs.\n",
        "\n",
        "        The mean and standard-deviation are calculated per-dimension over the\n",
        "        mini-batches and gamma and beta are learnable parameter vectors of\n",
        "        size num_features.\n",
        "\n",
        "        Parameters:\n",
        "        - num_features: C from an expected input of size (N, C, H, W).\n",
        "        - eps: a value added to the denominator for numerical stability. Default: 1e-5\n",
        "        - momentum: momentum – the value used for the running_mean and running_var\n",
        "        computation. Default: 0.1\n",
        "        - gamma: the learnable weights of shape (num_features).\n",
        "        - beta: the learnable bias of the module of shape (num_features).\n",
        "        \"\"\"\n",
        "        ########################################################################\n",
        "        # TODO: Define the parameters used in the forward pass                 #\n",
        "        ########################################################################\n",
        "        # *****START OF YOUR CODE (DO NOT DELETE/MODIFY THIS LINE)*****\n",
        "\n",
        "        pass\n",
        "\n",
        "\n",
        "        # *****END OF YOUR CODE (DO NOT DELETE/MODIFY THIS LINE)*****\n",
        "        ########################################################################\n",
        "        #                             END OF YOUR CODE                         #\n",
        "        ########################################################################\n",
        "\n",
        "    def forward(self, x):\n",
        "        \"\"\"\n",
        "        During training this layer keeps running estimates of its computed mean and\n",
        "        variance, which are then used for normalization during evaluation.\n",
        "        Input:\n",
        "        - x: Input data of shape (N, C, H, W)\n",
        "        Output:\n",
        "        - out: Output data of shape (N, C, H, W) (same shape as input)\n",
        "        \"\"\"\n",
        "        ########################################################################\n",
        "        # TODO: Implement the forward pass                                     #\n",
        "        #       (be aware of the difference for training and testing)          #\n",
        "        ########################################################################\n",
        "        # *****START OF YOUR CODE (DO NOT DELETE/MODIFY THIS LINE)*****\n",
        "\n",
        "        pass\n",
        "\n",
        "        # *****END OF YOUR CODE (DO NOT DELETE/MODIFY THIS LINE)*****\n",
        "        ########################################################################\n",
        "        #                             END OF YOUR CODE                         #\n",
        "        ########################################################################\n",
        "\n",
        "        return x"
      ],
      "execution_count": null,
      "outputs": []
    },
    {
      "cell_type": "markdown",
      "metadata": {
        "id": "x7DgN4QqVti0"
      },
      "source": [
        "## Part 2"
      ]
    },
    {
      "cell_type": "markdown",
      "metadata": {
        "id": "ufkubTEPVti0"
      },
      "source": [
        "In this part, you will train a ResNet-18 defined on the CIFAR-10 dataset. Code for training and evaluation are provided. "
      ]
    },
    {
      "cell_type": "markdown",
      "metadata": {
        "id": "yUq-ga34Vti0"
      },
      "source": [
        "### Your Task"
      ]
    },
    {
      "cell_type": "markdown",
      "metadata": {
        "id": "OHs-iLx-Vti0"
      },
      "source": [
        "1. Train your network to achieve the best possible test set accuracy after a maximum of 10 epochs of training.\n",
        "\n",
        "2. You can use techniques such as optimal hyper-parameter searching, data pre-processing\n",
        "\n",
        "3. If necessary, you can also use another optimizer\n",
        "\n",
        "4. **Answer the following question:**\n",
        "Given such a network with a large number of trainable parameters, and a training set of a large number of data, what do you think is the best strategy for hyperparameter searching? "
      ]
    },
    {
      "cell_type": "code",
      "metadata": {
        "id": "ynZKJdS7Vti0"
      },
      "source": [
        "import torch\n",
        "from torch.nn import Conv2d, MaxPool2d\n",
        "import torch.nn as nn\n",
        "import torch.nn.functional as F"
      ],
      "execution_count": 8,
      "outputs": []
    },
    {
      "cell_type": "markdown",
      "metadata": {
        "id": "UvpHJSn4Vti1"
      },
      "source": [
        "Next, we define ResNet-18:"
      ]
    },
    {
      "cell_type": "code",
      "metadata": {
        "id": "OTpgXNjOVti1"
      },
      "source": [
        "# define resnet building blocks\n",
        "\n",
        "class ResidualBlock(nn.Module): \n",
        "    def __init__(self, inchannel, outchannel, stride=1): \n",
        "        \n",
        "        super(ResidualBlock, self).__init__() \n",
        "        \n",
        "        self.left = nn.Sequential(Conv2d(inchannel, outchannel, kernel_size=3, \n",
        "                                         stride=stride, padding=1, bias=False), \n",
        "                                  nn.BatchNorm2d(outchannel), \n",
        "                                  nn.ReLU(inplace=True), \n",
        "                                  Conv2d(outchannel, outchannel, kernel_size=3, \n",
        "                                         stride=1, padding=1, bias=False), \n",
        "                                  nn.BatchNorm2d(outchannel)) \n",
        "        \n",
        "        self.shortcut = nn.Sequential() \n",
        "        \n",
        "        if stride != 1 or inchannel != outchannel: \n",
        "            \n",
        "            self.shortcut = nn.Sequential(Conv2d(inchannel, outchannel, \n",
        "                                                 kernel_size=1, stride=stride, \n",
        "                                                 padding = 0, bias=False), \n",
        "                                          nn.BatchNorm2d(outchannel) ) \n",
        "            \n",
        "    def forward(self, x): \n",
        "        \n",
        "        out = self.left(x) \n",
        "        \n",
        "        out += self.shortcut(x) \n",
        "        \n",
        "        out = F.relu(out) \n",
        "        \n",
        "        return out\n",
        "\n",
        "\n",
        "    \n",
        "    # define resnet\n",
        "\n",
        "class ResNet(nn.Module):\n",
        "    \n",
        "    def __init__(self, ResidualBlock, num_classes = 10):\n",
        "        \n",
        "        super(ResNet, self).__init__()\n",
        "        \n",
        "        self.inchannel = 64\n",
        "        self.conv1 = nn.Sequential(Conv2d(3, 64, kernel_size = 3, stride = 1,\n",
        "                                            padding = 1, bias = False), \n",
        "                                  nn.BatchNorm2d(64), \n",
        "                                  nn.ReLU())\n",
        "        \n",
        "        self.layer1 = self.make_layer(ResidualBlock, 64, 2, stride = 1)\n",
        "        self.layer2 = self.make_layer(ResidualBlock, 128, 2, stride = 2)\n",
        "        self.layer3 = self.make_layer(ResidualBlock, 256, 2, stride = 2)\n",
        "        self.layer4 = self.make_layer(ResidualBlock, 512, 2, stride = 2)\n",
        "        self.maxpool = MaxPool2d(4)\n",
        "        self.fc = nn.Linear(512, num_classes)\n",
        "        \n",
        "    \n",
        "    def make_layer(self, block, channels, num_blocks, stride):\n",
        "        \n",
        "        strides = [stride] + [1] * (num_blocks - 1)\n",
        "        \n",
        "        layers = []\n",
        "        \n",
        "        for stride in strides:\n",
        "            \n",
        "            layers.append(block(self.inchannel, channels, stride))\n",
        "            \n",
        "            self.inchannel = channels\n",
        "            \n",
        "        return nn.Sequential(*layers)\n",
        "    \n",
        "    \n",
        "    def forward(self, x):\n",
        "        \n",
        "        x = self.conv1(x)\n",
        "        \n",
        "        x = self.layer1(x)\n",
        "        x = self.layer2(x)\n",
        "        x = self.layer3(x)\n",
        "        x = self.layer4(x)\n",
        "        \n",
        "        x = self.maxpool(x)\n",
        "        \n",
        "        x = x.view(x.size(0), -1)\n",
        "        \n",
        "        x = self.fc(x)\n",
        "        \n",
        "        return x\n",
        "    \n",
        "    \n",
        "def ResNet18():\n",
        "    return ResNet(ResidualBlock)"
      ],
      "execution_count": 9,
      "outputs": []
    },
    {
      "cell_type": "markdown",
      "metadata": {
        "id": "o1cQnMSYVti1"
      },
      "source": [
        "### Loading dataset\n",
        "We will import images from the [torchvision.datasets](https://pytorch.org/docs/stable/torchvision/datasets.html) library <br>\n",
        "First, we need to define the alterations (transforms) we want to perform to our images - given that transformations are applied when importing the data. <br>\n",
        "Define the following transforms using the torchvision.datasets library -- you can read the transforms documentation [here](https://pytorch.org/docs/stable/torchvision/transforms.html): <br>\n",
        "1. Convert images to tensor\n",
        "2. Normalize mean and std of images with values:mean=[0.4914, 0.4822, 0.4465], std=[0.2023, 0.1994, 0.2010]"
      ]
    },
    {
      "cell_type": "code",
      "metadata": {
        "id": "xTT064uvVti1"
      },
      "source": [
        "import torch.optim as optim\n",
        "from torch.utils.data import DataLoader\n",
        "from torch.utils.data import sampler\n",
        "\n",
        "import torchvision.datasets as dset\n",
        "\n",
        "import numpy as np\n",
        "\n",
        "import torchvision.transforms as T\n",
        "\n",
        "##############################################################\n",
        "#                       YOUR CODE HERE                       #       \n",
        "##############################################################\n",
        "mean=[0.4914, 0.4822, 0.4465]\n",
        "std=[0.2023, 0.1994, 0.2010]\n",
        "\n",
        "transform = T.Compose([T.ToTensor(),T.Normalize(mean,std)])\n",
        "\n",
        "\n",
        "##############################################################\n",
        "#                       END OF YOUR CODE                     #\n",
        "##############################################################\n",
        "\n",
        "\n"
      ],
      "execution_count": 12,
      "outputs": []
    },
    {
      "cell_type": "markdown",
      "metadata": {
        "id": "rzaAeLl_Vti2"
      },
      "source": [
        "Now load the dataset using the transform you defined above, with batch_size = 64<br>\n",
        "You can check the documentation [here](https://pytorch.org/docs/stable/torchvision/datasets.html).\n",
        "Then create data loaders (using DataLoader from torch.utils.data) for the training and test set"
      ]
    },
    {
      "cell_type": "code",
      "metadata": {
        "colab": {
          "base_uri": "https://localhost:8080/",
          "height": 385
        },
        "id": "wBtCYJSsVti2",
        "outputId": "0c2017d6-c151-4621-c1ce-5572781033e0"
      },
      "source": [
        "\n",
        "##############################################################\n",
        "#                       YOUR CODE HERE                       #       \n",
        "##############################################################\n",
        "\n",
        "data_dir = './data'\n",
        "\n",
        "train_dat = dset.ImageNet(data_dir,train = True,download = True, transform = transform)\n",
        "test_dat = dset.ImageNet(data_dir, train = False, transform = transform)\n",
        "\n",
        "sample_image, sample_target = train_dat[0]\n",
        "\n",
        "print(sample_traget)\n",
        "\n",
        "##############################################################\n",
        "#                       END OF YOUR CODE                     #       \n",
        "##############################################################\n",
        "\n"
      ],
      "execution_count": 13,
      "outputs": [
        {
          "output_type": "error",
          "ename": "RuntimeError",
          "evalue": "ignored",
          "traceback": [
            "\u001b[0;31m---------------------------------------------------------------------------\u001b[0m",
            "\u001b[0;31mRuntimeError\u001b[0m                              Traceback (most recent call last)",
            "\u001b[0;32m<ipython-input-13-7eb283988edb>\u001b[0m in \u001b[0;36m<module>\u001b[0;34m()\u001b[0m\n\u001b[1;32m      6\u001b[0m \u001b[0mdata_dir\u001b[0m \u001b[0;34m=\u001b[0m \u001b[0;34m'./data'\u001b[0m\u001b[0;34m\u001b[0m\u001b[0;34m\u001b[0m\u001b[0m\n\u001b[1;32m      7\u001b[0m \u001b[0;34m\u001b[0m\u001b[0m\n\u001b[0;32m----> 8\u001b[0;31m \u001b[0mtrain_dat\u001b[0m \u001b[0;34m=\u001b[0m \u001b[0mdset\u001b[0m\u001b[0;34m.\u001b[0m\u001b[0mImageNet\u001b[0m\u001b[0;34m(\u001b[0m\u001b[0mdata_dir\u001b[0m\u001b[0;34m,\u001b[0m\u001b[0mtrain\u001b[0m \u001b[0;34m=\u001b[0m \u001b[0;32mTrue\u001b[0m\u001b[0;34m,\u001b[0m\u001b[0mdownload\u001b[0m \u001b[0;34m=\u001b[0m \u001b[0;32mTrue\u001b[0m\u001b[0;34m,\u001b[0m \u001b[0mtransform\u001b[0m \u001b[0;34m=\u001b[0m \u001b[0mtransform\u001b[0m\u001b[0;34m)\u001b[0m\u001b[0;34m\u001b[0m\u001b[0;34m\u001b[0m\u001b[0m\n\u001b[0m\u001b[1;32m      9\u001b[0m \u001b[0mtest_dat\u001b[0m \u001b[0;34m=\u001b[0m \u001b[0mdset\u001b[0m\u001b[0;34m.\u001b[0m\u001b[0mImageNet\u001b[0m\u001b[0;34m(\u001b[0m\u001b[0mdata_dir\u001b[0m\u001b[0;34m,\u001b[0m \u001b[0mtrain\u001b[0m \u001b[0;34m=\u001b[0m \u001b[0;32mFalse\u001b[0m\u001b[0;34m,\u001b[0m \u001b[0mtransform\u001b[0m \u001b[0;34m=\u001b[0m \u001b[0mtransform\u001b[0m\u001b[0;34m)\u001b[0m\u001b[0;34m\u001b[0m\u001b[0;34m\u001b[0m\u001b[0m\n\u001b[1;32m     10\u001b[0m \u001b[0;34m\u001b[0m\u001b[0m\n",
            "\u001b[0;32m/usr/local/lib/python3.6/dist-packages/torchvision/datasets/imagenet.py\u001b[0m in \u001b[0;36m__init__\u001b[0;34m(self, root, split, download, **kwargs)\u001b[0m\n\u001b[1;32m     44\u001b[0m                    \u001b[0;34m\"download the archives externally and place them in the root \"\u001b[0m\u001b[0;34m\u001b[0m\u001b[0;34m\u001b[0m\u001b[0m\n\u001b[1;32m     45\u001b[0m                    \"directory.\")\n\u001b[0;32m---> 46\u001b[0;31m             \u001b[0;32mraise\u001b[0m \u001b[0mRuntimeError\u001b[0m\u001b[0;34m(\u001b[0m\u001b[0mmsg\u001b[0m\u001b[0;34m)\u001b[0m\u001b[0;34m\u001b[0m\u001b[0;34m\u001b[0m\u001b[0m\n\u001b[0m\u001b[1;32m     47\u001b[0m         \u001b[0;32melif\u001b[0m \u001b[0mdownload\u001b[0m \u001b[0;32mis\u001b[0m \u001b[0;32mFalse\u001b[0m\u001b[0;34m:\u001b[0m\u001b[0;34m\u001b[0m\u001b[0;34m\u001b[0m\u001b[0m\n\u001b[1;32m     48\u001b[0m             msg = (\"The use of the download flag is deprecated, since the dataset \"\n",
            "\u001b[0;31mRuntimeError\u001b[0m: The dataset is no longer publicly accessible. You need to download the archives externally and place them in the root directory."
          ]
        }
      ]
    },
    {
      "cell_type": "code",
      "metadata": {
        "id": "UfSsffyeVti2"
      },
      "source": [
        "USE_GPU = True\n",
        "dtype = torch.float32 \n",
        "\n",
        "if USE_GPU and torch.cuda.is_available():\n",
        "    device = torch.device('cuda')\n",
        "else:\n",
        "    device = torch.device('cpu')\n",
        "    \n",
        "    \n",
        "\n",
        "print_every = 100\n",
        "def check_accuracy(loader, model):\n",
        "    # function for test accuracy on validation and test set\n",
        "    \n",
        "    if loader.dataset.train:\n",
        "        print('Checking accuracy on validation set')\n",
        "    else:\n",
        "        print('Checking accuracy on test set')   \n",
        "    num_correct = 0\n",
        "    num_samples = 0\n",
        "    model.eval()  # set model to evaluation mode\n",
        "    with torch.no_grad():\n",
        "        for x, y in loader:\n",
        "            x = x.to(device=device, dtype=dtype)  # move to device\n",
        "            y = y.to(device=device, dtype=torch.long)\n",
        "            scores = model(x)\n",
        "            _, preds = scores.max(1)\n",
        "            num_correct += (preds == y).sum()\n",
        "            num_samples += preds.size(0)\n",
        "        acc = float(num_correct) / num_samples\n",
        "        print('Got %d / %d correct (%.2f)' % (num_correct, num_samples, 100 * acc))\n",
        "\n",
        "        \n",
        "\n",
        "def train_part(model, optimizer, epochs=1):\n",
        "    \"\"\"\n",
        "    Train a model on CIFAR-10 using the PyTorch Module API.\n",
        "    \n",
        "    Inputs:\n",
        "    - model: A PyTorch Module giving the model to train.\n",
        "    - optimizer: An Optimizer object we will use to train the model\n",
        "    - epochs: (Optional) A Python integer giving the number of epochs to train for\n",
        "    \n",
        "    Returns: Nothing, but prints model accuracies during training.\n",
        "    \"\"\"\n",
        "    model = model.to(device=device)  # move the model parameters to CPU/GPU\n",
        "    for e in range(epochs):\n",
        "        print(len(loader_train))\n",
        "        for t, (x, y) in enumerate(loader_train):\n",
        "            model.train()  # put model to training mode\n",
        "            x = x.to(device=device, dtype=dtype)  # move to device, e.g. GPU\n",
        "            y = y.to(device=device, dtype=torch.long)\n",
        "\n",
        "            scores = model(x)\n",
        "            loss = F.cross_entropy(scores, y)\n",
        "\n",
        "            # Zero out all of the gradients for the variables which the optimizer\n",
        "            # will update.\n",
        "            optimizer.zero_grad()\n",
        "\n",
        "            loss.backward()\n",
        "\n",
        "            # Update the parameters of the model using the gradients\n",
        "            optimizer.step()\n",
        "\n",
        "            if t % print_every == 0:\n",
        "                print('Epoch: %d, Iteration %d, loss = %.4f' % (e, t, loss.item()))\n",
        "                #check_accuracy(loader_val, model)\n",
        "                print()"
      ],
      "execution_count": null,
      "outputs": []
    },
    {
      "cell_type": "code",
      "metadata": {
        "id": "0TUyICDhVti2"
      },
      "source": [
        "# code for optimising your network performance\n",
        "\n",
        "##############################################################\n",
        "#                       YOUR CODE HERE                       #       \n",
        "##############################################################\n",
        "\n",
        "\n",
        "\n",
        "##############################################################\n",
        "#                       END OF YOUR CODE                     #\n",
        "##############################################################\n",
        "\n",
        "\n",
        "# define and train the network\n",
        "model = ResNet18()\n",
        "optimizer = optim.Adam(model.parameters())\n",
        "\n",
        "train_part(model, optimizer, epochs = 10)\n",
        "\n",
        "\n",
        "# report test set accuracy\n",
        "\n",
        "check_accuracy(loader_test, model)\n",
        "\n",
        "\n",
        "# save the model\n",
        "torch.save(model.state_dict(), 'model.pt')"
      ],
      "execution_count": null,
      "outputs": []
    },
    {
      "cell_type": "markdown",
      "metadata": {
        "id": "1uRbPHmdVti3"
      },
      "source": [
        "## Part 3"
      ]
    },
    {
      "cell_type": "markdown",
      "metadata": {
        "id": "2L4_99tcVti3"
      },
      "source": [
        "The code provided below will allow you to visualise the feature maps computed by different layers of your network. Run the code (install matplotlib if necessary) and **answer the following questions**: \n",
        "\n",
        "1. Compare the feature maps from low-level layers to high-level layers, what do you observe? \n",
        "\n",
        "2. Use the training log, reported test set accuracy and the feature maps, analyse the performance of your network. If you think the performance is sufficiently good, explain why; if not, what might be the problem and how can you improve the performance?\n",
        "\n",
        "3. What are the other possible ways to analyse the performance of your network?"
      ]
    },
    {
      "cell_type": "markdown",
      "metadata": {
        "id": "Pn33CY_cVti3"
      },
      "source": [
        "**YOUR ANSWER FOR PART 3 HERE**\n",
        "\n",
        "A:"
      ]
    },
    {
      "cell_type": "code",
      "metadata": {
        "colab": {
          "base_uri": "https://localhost:8080/",
          "height": 249
        },
        "id": "a4E_DAwmVti3",
        "outputId": "e7876df1-1ad5-44ad-f8ed-15ed31e1383a"
      },
      "source": [
        "#!pip install matplotlib\n",
        "\n",
        "import matplotlib.pyplot as plt\n",
        "\n",
        "plt.tight_layout()\n",
        "\n",
        "\n",
        "activation = {}\n",
        "def get_activation(name):\n",
        "    def hook(model, input, output):\n",
        "        activation[name] = output.detach()\n",
        "    return hook\n",
        "\n",
        "vis_labels = ['conv1', 'layer1', 'layer2', 'layer3', 'layer4']\n",
        "\n",
        "for l in vis_labels:\n",
        "\n",
        "    getattr(model, l).register_forward_hook(get_activation(l))\n",
        "    \n",
        "    \n",
        "data, _ = cifar10_test[0]\n",
        "data = data.unsqueeze_(0).to(device = device, dtype = dtype)\n",
        "\n",
        "output = model(data)\n",
        "\n",
        "\n",
        "\n",
        "for idx, l in enumerate(vis_labels):\n",
        "\n",
        "    act = activation[l].squeeze()\n",
        "\n",
        "    if idx < 2:\n",
        "        ncols = 8\n",
        "    else:\n",
        "        ncols = 32\n",
        "        \n",
        "    nrows = act.size(0) // ncols\n",
        "    \n",
        "    fig, axarr = plt.subplots(nrows, ncols)\n",
        "    fig.suptitle(l)\n",
        "\n",
        "\n",
        "    for i in range(nrows):\n",
        "        for j in range(ncols):\n",
        "            axarr[i, j].imshow(act[i * nrows + j].cpu())\n",
        "            axarr[i, j].axis('off')"
      ],
      "execution_count": 42,
      "outputs": [
        {
          "output_type": "error",
          "ename": "NameError",
          "evalue": "ignored",
          "traceback": [
            "\u001b[0;31m---------------------------------------------------------------------------\u001b[0m",
            "\u001b[0;31mNameError\u001b[0m                                 Traceback (most recent call last)",
            "\u001b[0;32m<ipython-input-42-18a48ba78cda>\u001b[0m in \u001b[0;36m<module>\u001b[0;34m()\u001b[0m\n\u001b[1;32m     16\u001b[0m \u001b[0;32mfor\u001b[0m \u001b[0ml\u001b[0m \u001b[0;32min\u001b[0m \u001b[0mvis_labels\u001b[0m\u001b[0;34m:\u001b[0m\u001b[0;34m\u001b[0m\u001b[0;34m\u001b[0m\u001b[0m\n\u001b[1;32m     17\u001b[0m \u001b[0;34m\u001b[0m\u001b[0m\n\u001b[0;32m---> 18\u001b[0;31m     \u001b[0mgetattr\u001b[0m\u001b[0;34m(\u001b[0m\u001b[0mmodel\u001b[0m\u001b[0;34m,\u001b[0m \u001b[0ml\u001b[0m\u001b[0;34m)\u001b[0m\u001b[0;34m.\u001b[0m\u001b[0mregister_forward_hook\u001b[0m\u001b[0;34m(\u001b[0m\u001b[0mget_activation\u001b[0m\u001b[0;34m(\u001b[0m\u001b[0ml\u001b[0m\u001b[0;34m)\u001b[0m\u001b[0;34m)\u001b[0m\u001b[0;34m\u001b[0m\u001b[0;34m\u001b[0m\u001b[0m\n\u001b[0m\u001b[1;32m     19\u001b[0m \u001b[0;34m\u001b[0m\u001b[0m\n\u001b[1;32m     20\u001b[0m \u001b[0;34m\u001b[0m\u001b[0m\n",
            "\u001b[0;31mNameError\u001b[0m: name 'model' is not defined"
          ]
        },
        {
          "output_type": "display_data",
          "data": {
            "text/plain": [
              "<Figure size 432x288 with 0 Axes>"
            ]
          },
          "metadata": {
            "tags": []
          }
        }
      ]
    }
  ]
}